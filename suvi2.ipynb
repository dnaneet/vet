{
 "cells": [
  {
   "cell_type": "code",
   "execution_count": 1,
   "id": "70108204-7d1c-47b9-a863-3cf26d53e29a",
   "metadata": {},
   "outputs": [],
   "source": [
    "import pandas as pd\n",
    "import numpy as np\n",
    "import seaborn as sns\n",
    "import matplotlib.pyplot as plt\n",
    "import plotly.express as px"
   ]
  },
  {
   "cell_type": "markdown",
   "id": "0934ba85-b0ab-4f3f-ab01-54dc31a3f52d",
   "metadata": {
    "tags": []
   },
   "source": [
    "## Import data"
   ]
  },
  {
   "cell_type": "code",
   "execution_count": 2,
   "id": "ec6046c3-f9d1-4b5c-8f1d-428ba54a1154",
   "metadata": {},
   "outputs": [],
   "source": [
    "eating = pd.read_csv('eating.csv')\n",
    "date = eating.pop('date')\n",
    "df_eating = pd.DataFrame({})\n",
    "df_eating['date'] = date\n",
    "df_eating['Quantity (oz.)'] = eating.fillna(0).transpose().cumsum().tail(1).transpose()['qty.9']"
   ]
  },
  {
   "cell_type": "code",
   "execution_count": 3,
   "id": "ba270f56-616d-4a81-90c4-3f4871672a85",
   "metadata": {},
   "outputs": [],
   "source": [
    "rx = pd.read_csv('rx.csv')"
   ]
  },
  {
   "cell_type": "markdown",
   "id": "a56ef2c3-7481-4bde-a888-b45e8425a6c6",
   "metadata": {
    "tags": []
   },
   "source": [
    "## Merge data"
   ]
  },
  {
   "cell_type": "code",
   "execution_count": 4,
   "id": "23bcc6d7-5d2b-4d0f-9faa-dfda9f0dbdc9",
   "metadata": {},
   "outputs": [],
   "source": [
    "df_all = df_eating.merge(rx, left_on=['date'], right_on=['date'])\n",
    "day_number = np.arange(len(df_all))\n",
    "df_all['day since vet visit'] = day_number\n",
    "#df_all.columns\n",
    "#df_all['Quantity (oz.)'].tail(20)"
   ]
  },
  {
   "cell_type": "markdown",
   "id": "a89cd559-cf0d-4be9-a070-8b70eced83b7",
   "metadata": {
    "tags": []
   },
   "source": [
    "## Plot Food Intake Data -- All\n",
    "\n",
    "After Suvi's visit with the vet in May, she was **actively fed** by placing a food bowl in front of her on regular occasions, through the day.  This active feeding continued until the 21st of June 2021 when it was determined that Suvi had regained her regular mass of ~11.4 pounds.  After this active feeding regiment, I ensured that Suvi had food in her bowl but she approached it **naturally** when she was hungry, rather than me actively placing the bowl in front of her.\n",
    "\n",
    "The data plotted in the following cells is the cumulative data of both \"active\" and \"natural\" feeding.\n",
    "\n",
    "For about ~50 days, Suvi received oral dosing of Prednisolone (0.75 ml) every day.  After that, for about 1-week, she received this dosage every second day.  After this 1-week alternate day dosing, she has been receiving 0.75 ml Prednisolone once every 3 days."
   ]
  },
  {
   "cell_type": "code",
   "execution_count": 5,
   "id": "f20c8052-af58-4b5a-8717-dd5b79d1b4c1",
   "metadata": {},
   "outputs": [],
   "source": [
    "threshold = np.array(df_all[df_all['date'] == '6/21/2021']['day since vet visit'])\n",
    "\n",
    "\n",
    "sns.set(font_scale = 1.2)\n",
    "fig, axes = plt.subplots(2,1, sharey=True)\n",
    "fig.suptitle('Suvi\\'s daily food intake since vet visit')\n",
    "sns.scatterplot(ax = axes[0], data=df_all, y=\"Quantity (oz.)\", x=\"day since vet visit\", hue = 'rx', s=100)\n",
    "axes[0].legend(bbox_to_anchor=(1.05, 1), loc=2, borderaxespad=0.)\n",
    "axes[0].axhline(1.6, color='purple', linewidth = 1, linestyle='--')\n",
    "axes[0].axhline(2.4, color='purple', linewidth = 1, linestyle='--')\n",
    "axes[0].axvline(x=threshold[0], color = 'red', linewidth = 1, linestyle = '--')\n",
    "axes[0].text(0.1, 1.85, \"Her usual\\ndaily quantity range\", horizontalalignment='left', size='small', color='black')\n",
    "axes[0].text(threshold[0]-18, 0.3, \"Natural feeding\\nafter this day (21st June '21')\", fontsize = 10)\n",
    "axes[0].set_xlabel(' ', fontsize=20)\n",
    "axes[0].set_ylabel('Quantity of\\nfood eaten (oz.)', fontsize=20)\n",
    "axes[0].legend(loc='upper right')\n",
    "sns.scatterplot(ax = axes[1], data=df_all, y=\"Quantity (oz.)\", x=\"day since vet visit\", hue = 'type of food',\n",
    "               s=100)\n",
    "#plt.legend(loc='lower right')\n",
    "axes[1].legend(bbox_to_anchor=(1.05, 1), loc=2, borderaxespad=0.)\n",
    "axes[1].axhline(1.6, color='purple', linewidth = 1, linestyle='--')\n",
    "axes[1].axhline(2.4, color='purple', linewidth = 1, linestyle='--')\n",
    "axes[1].axvline(x=threshold[0], color = 'red', linewidth = 1, linestyle = '--')\n",
    "axes[1].text(threshold[0]-18, 0.3, \"Natural feeding\\nafter this day (21st June '21')\", fontsize = 10)\n",
    "axes[1].text(0.1, 1.85, \"Her usual\\ndaily quantity range\", horizontalalignment='left', size='small', color='black')\n",
    "axes[1].set_xlabel('Day since vet visit', fontsize=20)\n",
    "axes[1].set_ylabel('Quantity of\\nfood eaten (oz.)', fontsize=20)\n",
    "axes[1].legend(loc='upper right')\n",
    "fig.set_size_inches(10, 8.27)\n",
    "\n",
    "plt.savefig('./suvi_all.png')"
   ]
  },
  {
   "cell_type": "markdown",
   "id": "68d8eb87-9925-46cd-8288-3bfd5dad4e21",
   "metadata": {
    "tags": []
   },
   "source": [
    "### Describe combinations of different medication regimen and food type -- all data"
   ]
  },
  {
   "cell_type": "markdown",
   "id": "58a74054-cab4-4ea6-ab8d-f160e396522f",
   "metadata": {
    "tags": []
   },
   "source": [
    "## All Data"
   ]
  },
  {
   "cell_type": "code",
   "execution_count": 6,
   "id": "229d9df9-90e2-4633-8637-3aba1dbdafca",
   "metadata": {},
   "outputs": [
    {
     "data": {
      "text/plain": [
       "count    119.000000\n",
       "mean       1.760504\n",
       "std        0.401948\n",
       "min        0.700000\n",
       "25%        1.500000\n",
       "50%        1.700000\n",
       "75%        2.100000\n",
       "max        2.900000\n",
       "Name: Quantity (oz.), dtype: float64"
      ]
     },
     "execution_count": 6,
     "metadata": {},
     "output_type": "execute_result"
    }
   ],
   "source": [
    "df_all[((df_all['rx'] == 'none') | (df_all['rx'] == 'steroid')) & (df_all['type of food'] == 'dry')]['Quantity (oz.)'].plot.hist()\n",
    "df_all[((df_all['rx'] == 'none') | (df_all['rx'] == 'steroid')) & (df_all['type of food'] == 'dry')]['Quantity (oz.)'].describe()"
   ]
  },
  {
   "cell_type": "code",
   "execution_count": null,
   "id": "cfc2cbf4-d0a8-4242-8357-e647682109b4",
   "metadata": {},
   "outputs": [],
   "source": [
    "## No Rx and Dry food"
   ]
  },
  {
   "cell_type": "code",
   "execution_count": 7,
   "id": "827dbc64-91f5-419e-8e45-7af8a2631379",
   "metadata": {},
   "outputs": [
    {
     "data": {
      "text/plain": [
       "count    49.000000\n",
       "mean      1.555102\n",
       "std       0.281411\n",
       "min       0.700000\n",
       "25%       1.400000\n",
       "50%       1.600000\n",
       "75%       1.800000\n",
       "max       2.000000\n",
       "Name: Quantity (oz.), dtype: float64"
      ]
     },
     "execution_count": 7,
     "metadata": {},
     "output_type": "execute_result"
    }
   ],
   "source": [
    "df_all[((df_all['rx'] == 'none') ) & (df_all['type of food'] == 'dry')]['Quantity (oz.)'].plot.hist()\n",
    "df_all[((df_all['rx'] == 'none') ) & (df_all['type of food'] == 'dry')]['Quantity (oz.)'].describe()"
   ]
  },
  {
   "cell_type": "code",
   "execution_count": 10,
   "id": "b1daa323-9124-4ebe-b70f-b82cee43f340",
   "metadata": {},
   "outputs": [],
   "source": [
    "## Steroid and dry food"
   ]
  },
  {
   "cell_type": "code",
   "execution_count": 8,
   "id": "9387d806-1249-4859-a411-cd7dd6582056",
   "metadata": {},
   "outputs": [
    {
     "data": {
      "text/plain": [
       "count    70.000000\n",
       "mean      1.904286\n",
       "std       0.412639\n",
       "min       1.100000\n",
       "25%       1.600000\n",
       "50%       1.950000\n",
       "75%       2.200000\n",
       "max       2.900000\n",
       "Name: Quantity (oz.), dtype: float64"
      ]
     },
     "execution_count": 8,
     "metadata": {},
     "output_type": "execute_result"
    }
   ],
   "source": [
    "df_all[((df_all['rx'] == 'steroid') ) & (df_all['type of food'] == 'dry')]['Quantity (oz.)'].plot.hist()\n",
    "df_all[((df_all['rx'] == 'steroid') ) & (df_all['type of food'] == 'dry')]['Quantity (oz.)'].describe()"
   ]
  },
  {
   "cell_type": "code",
   "execution_count": 14,
   "id": "437bb280-847b-48eb-900c-09e310349bd5",
   "metadata": {},
   "outputs": [
    {
     "data": {
      "text/plain": [
       "Index(['date', 'Quantity (oz.)', 'type of food', 'rx', 'day since vet visit'], dtype='object')"
      ]
     },
     "execution_count": 14,
     "metadata": {},
     "output_type": "execute_result"
    }
   ],
   "source": [
    "df_all.columns\n"
   ]
  },
  {
   "cell_type": "markdown",
   "id": "0ff05703-e6c8-475a-8026-da365d3cc3f6",
   "metadata": {},
   "source": [
    "### Describe daily food intake after 21st June 2021\n",
    "\n",
    "Until 21st of June, Suvi was actively fed by placing a food bowl in front of her on a regular basis, throughout the day.  After the 21st of June, active feeding was stopped.  This led to Suvi regaining her usual habits of approaching her food bowl when she was hungry. \n",
    "\n",
    "In the cells that follow, *6/21/2021* is a threshold date, after which, her eating habits are natural."
   ]
  },
  {
   "cell_type": "code",
   "execution_count": 9,
   "id": "f3e29179-f450-4b84-b097-a10d0ce80f99",
   "metadata": {},
   "outputs": [],
   "source": [
    "threshold = df_all[df_all['date'] == '6/21/2021']['day since vet visit']\n",
    "df_unassisted = df_all[df_all['day since vet visit'] >= 35]"
   ]
  },
  {
   "cell_type": "code",
   "execution_count": 10,
   "id": "86c21ed5-9459-45ab-af0b-d910029a4661",
   "metadata": {},
   "outputs": [],
   "source": [
    "sns.set(font_scale = 1.2)\n",
    "fig, axes = plt.subplots(2,1, sharey=True)\n",
    "fig.suptitle('Suvi\\'s daily food intake since 21st June 2021')\n",
    "sns.scatterplot(ax = axes[0], data=df_unassisted, y=\"Quantity (oz.)\", x=\"day since vet visit\", hue = 'rx', s=100)\n",
    "axes[0].legend(bbox_to_anchor=(1.05, 1), loc=2, borderaxespad=0.)\n",
    "axes[0].axhline(1.6, color='purple', linewidth = 1, linestyle='--')\n",
    "axes[0].axhline(2.4, color='purple', linewidth = 1, linestyle='--')\n",
    "axes[0].text(35, 1.85, \"Her usual\\ndaily quantity range\", horizontalalignment='left', size='small', color='black')\n",
    "axes[0].set_xlabel(' ', fontsize=20)\n",
    "axes[0].set_ylabel('Quantity of\\nfood eaten (oz.)', fontsize=20)\n",
    "axes[0].legend(loc='upper right')\n",
    "sns.scatterplot(ax = axes[1], data=df_unassisted, y=\"Quantity (oz.)\", x=\"day since vet visit\", hue = 'type of food',\n",
    "               s=100)\n",
    "#plt.legend(loc='lower right')\n",
    "axes[1].legend(bbox_to_anchor=(1.05, 1), loc=2, borderaxespad=0.)\n",
    "axes[1].axhline(1.6, color='purple', linewidth = 1, linestyle='--')\n",
    "axes[1].axhline(2.4, color='purple', linewidth = 1, linestyle='--')\n",
    "axes[1].text(35, 1.85, \"Her usual\\ndaily quantity range\", horizontalalignment='left', size='small', color='black')\n",
    "axes[1].set_xlabel('Day since vet visit', fontsize=20)\n",
    "axes[1].set_ylabel('Quantity of\\nfood eaten (oz.)', fontsize=20)\n",
    "axes[1].legend(loc='upper right')\n",
    "fig.set_size_inches(10, 8.27)\n",
    "\n",
    "plt.savefig('./suvi_unassisted.png')"
   ]
  },
  {
   "cell_type": "markdown",
   "id": "05cf8209-65bc-4ac0-b81b-e26e58b88966",
   "metadata": {
    "tags": []
   },
   "source": [
    "### Describing Suvi's eating habits after 21st June 2021"
   ]
  },
  {
   "cell_type": "markdown",
   "id": "201874a9-74ba-484b-b90d-d2f0c4ad0d9c",
   "metadata": {
    "tags": []
   },
   "source": [
    "#### All data -- since 21st June 2021"
   ]
  },
  {
   "cell_type": "code",
   "execution_count": 14,
   "id": "c5349920-cfd6-4e0e-9aac-9fcaf3505da3",
   "metadata": {},
   "outputs": [
    {
     "name": "stdout",
     "output_type": "stream",
     "text": [
      "count    88.000000\n",
      "mean      1.690909\n",
      "std       0.299669\n",
      "min       1.200000\n",
      "25%       1.500000\n",
      "50%       1.700000\n",
      "75%       1.900000\n",
      "max       2.400000\n",
      "Name: Quantity (oz.), dtype: float64\n"
     ]
    },
    {
     "data": {
      "text/plain": [
       "(1.0, 2.5)"
      ]
     },
     "execution_count": 14,
     "metadata": {},
     "output_type": "execute_result"
    },
    {
     "data": {
      "image/png": "[encoded data removed]",
      "text/plain": [
       "<Figure size 432x288 with 1 Axes>"
      ]
     },
     "metadata": {},
     "output_type": "display_data"
    }
   ],
   "source": [
    "print(df_unassisted['Quantity (oz.)'].describe())\n",
    "plt.hist(df_unassisted['Quantity (oz.)'])\n",
    "plt.xlim([1, 2.5])"
   ]
  },
  {
   "cell_type": "markdown",
   "id": "82123e38-1362-4eb9-92c4-089b4581df45",
   "metadata": {
    "tags": []
   },
   "source": [
    "#### With no medication"
   ]
  },
  {
   "cell_type": "code",
   "execution_count": 15,
   "id": "bef3f9aa-99b6-429b-b886-22ec561165b2",
   "metadata": {},
   "outputs": [
    {
     "name": "stdout",
     "output_type": "stream",
     "text": [
      "count    41.000000\n",
      "mean      1.626829\n",
      "std       0.215667\n",
      "min       1.200000\n",
      "25%       1.500000\n",
      "50%       1.700000\n",
      "75%       1.800000\n",
      "max       2.000000\n",
      "Name: Quantity (oz.), dtype: float64\n"
     ]
    },
    {
     "data": {
      "text/plain": [
       "(1.0, 2.5)"
      ]
     },
     "execution_count": 15,
     "metadata": {},
     "output_type": "execute_result"
    },
    {
     "data": {
      "image/png": "[encoded data removed]",
      "text/plain": [
       "<Figure size 432x288 with 1 Axes>"
      ]
     },
     "metadata": {},
     "output_type": "display_data"
    }
   ],
   "source": [
    "print(df_unassisted[df_unassisted['rx'] == 'none']['Quantity (oz.)'].describe())\n",
    "#df_unassisted[df_unassisted['rx'] == 'none']['Quantity (oz.)'].plot.hist()\n",
    "plt.hist(df_unassisted[df_unassisted['rx'] == 'none']['Quantity (oz.)'])\n",
    "plt.xlim([1, 2.5])"
   ]
  },
  {
   "cell_type": "markdown",
   "id": "19f71dd3-a0d1-4e1d-b580-7fd15db7053b",
   "metadata": {
    "tags": []
   },
   "source": [
    "#### With Steroid"
   ]
  },
  {
   "cell_type": "code",
   "execution_count": 16,
   "id": "5b7f928b-e462-42e2-abb6-f9a83c63aef4",
   "metadata": {},
   "outputs": [
    {
     "name": "stdout",
     "output_type": "stream",
     "text": [
      "count    44.000000\n",
      "mean      1.763636\n",
      "std       0.353778\n",
      "min       1.200000\n",
      "25%       1.475000\n",
      "50%       1.750000\n",
      "75%       2.100000\n",
      "max       2.400000\n",
      "Name: Quantity (oz.), dtype: float64\n"
     ]
    },
    {
     "data": {
      "text/plain": [
       "(1.0, 2.5)"
      ]
     },
     "execution_count": 16,
     "metadata": {},
     "output_type": "execute_result"
    },
    {
     "data": {
      "image/png": "[encoded data removed]",
      "text/plain": [
       "<Figure size 432x288 with 1 Axes>"
      ]
     },
     "metadata": {},
     "output_type": "display_data"
    }
   ],
   "source": [
    "print(df_unassisted[df_unassisted['rx'] == 'steroid']['Quantity (oz.)'].describe())\n",
    "plt.hist(df_unassisted[df_unassisted['rx'] == 'steroid']['Quantity (oz.)'])\n",
    "plt.xlim([1, 2.5])"
   ]
  },
  {
   "cell_type": "markdown",
   "id": "63c9d0ee-c26b-4e4f-9f6f-d2bb9e52a794",
   "metadata": {},
   "source": [
    "### "
   ]
  },
  {
   "cell_type": "markdown",
   "id": "8ecbcf4d-83c3-4258-8d0f-55564ada5863",
   "metadata": {
    "tags": []
   },
   "source": [
    "### Food intake trend since 21st June 2021"
   ]
  },
  {
   "cell_type": "code",
   "execution_count": 11,
   "id": "73267b84-c138-4383-8045-8a3f85f3c1bb",
   "metadata": {},
   "outputs": [],
   "source": [
    "from scipy import stats"
   ]
  },
  {
   "cell_type": "code",
   "execution_count": 12,
   "id": "ab206b3e-7a42-4e9c-8cee-a14910d1edf3",
   "metadata": {},
   "outputs": [
    {
     "data": {
      "text/plain": [
       "LinregressResult(slope=-0.008430843084308434, intercept=2.354406240624063, rvalue=-0.7679164366146045, pvalue=1.1458634819274999e-20, stderr=0.000710390367054113, intercept_stderr=0.06343392188155902)"
      ]
     },
     "execution_count": 12,
     "metadata": {},
     "output_type": "execute_result"
    }
   ],
   "source": [
    "ax = sns.regplot(data = df_unassisted, x=\"day since vet visit\", y=\"Quantity (oz.)\")\n",
    "ax.set_title('Food intake trend since 21st June 2021\\n(with and w/o Rx)')\n",
    "ax.set(ylim=(0,4))\n",
    "stats.linregress(df_unassisted['day since vet visit'],\n",
    "                 df_unassisted['Quantity (oz.)']) #df_unassisted, x=\"day since vet visit\", y=\"Quantity (oz.)\""
   ]
  },
  {
   "cell_type": "code",
   "execution_count": 13,
   "id": "f8b5365a-30d6-4c0b-8166-04c04a7c2190",
   "metadata": {},
   "outputs": [
    {
     "data": {
      "text/plain": [
       "LinregressResult(slope=-0.01078423792588011, intercept=2.475271893201381, rvalue=-0.8080645787873294, pvalue=1.1311836159180097e-11, stderr=0.0011852271374506846, intercept_stderr=0.087039932885913)"
      ]
     },
     "execution_count": 13,
     "metadata": {},
     "output_type": "execute_result"
    }
   ],
   "source": [
    "ax = sns.regplot(data = df_unassisted[df_unassisted['rx'] == 'steroid'], x=\"day since vet visit\", y=\"Quantity (oz.)\")\n",
    "ax.set_title('Food intake trend since 21st June 2021\\n(with Rx = Steroid)')\n",
    "ax.set(ylim=(0,4))\n",
    "stats.linregress(df_unassisted[df_unassisted['rx'] == 'steroid']['day since vet visit'],\n",
    "                 df_unassisted[df_unassisted['rx'] == 'steroid']['Quantity (oz.)']) #df_unassisted, x=\"day since vet visit\", y=\"Quantity (oz.)\""
   ]
  },
  {
   "cell_type": "code",
   "execution_count": 15,
   "id": "3929e78f-f550-4a10-90e5-68f462a73513",
   "metadata": {},
   "outputs": [
    {
     "data": {
      "text/plain": [
       "LinregressResult(slope=-0.008203670237680098, intercept=2.3534617078226043, rvalue=-0.7006703952062889, pvalue=2.947489375339454e-08, stderr=0.0012316871850059636, intercept_stderr=0.12015725054035103)"
      ]
     },
     "execution_count": 15,
     "metadata": {},
     "output_type": "execute_result"
    }
   ],
   "source": [
    "ax = sns.regplot(data = df_unassisted[df_unassisted['rx'] == 'none'], x=\"day since vet visit\", y=\"Quantity (oz.)\")\n",
    "ax.set_title('Food intake trend since 21st June 2021\\n(with no Rx)')\n",
    "ax.set(ylim=(0,4))\n",
    "stats.linregress(df_unassisted[df_unassisted['rx'] == 'none']['day since vet visit'],\n",
    "                 df_unassisted[df_unassisted['rx'] == 'none']['Quantity (oz.)']) #df_unassisted, x=\"day since vet visit\", y=\"Quantity (oz.)\""
   ]
  },
  {
   "cell_type": "markdown",
   "id": "b9760f21-549f-4621-886b-4babc4686c8e",
   "metadata": {},
   "source": [
    "## Last \"n\" days"
   ]
  },
  {
   "cell_type": "code",
   "execution_count": 29,
   "id": "2f4a94ee-5f5d-4325-81c1-2e6bdf8aba62",
   "metadata": {},
   "outputs": [
    {
     "data": {
      "text/plain": [
       "Index(['date', 'Quantity (oz.)', 'type of food', 'rx', 'day since vet visit'], dtype='object')"
      ]
     },
     "execution_count": 29,
     "metadata": {},
     "output_type": "execute_result"
    }
   ],
   "source": [
    "n=60;\n",
    "df_lastn = df_all.tail(n)\n",
    "df_lastn.columns"
   ]
  },
  {
   "cell_type": "code",
   "execution_count": 30,
   "id": "81592d28-db8e-41c1-ab2e-7397c6cee6f0",
   "metadata": {},
   "outputs": [
    {
     "data": {
      "image/png": "[encoded data removed]",
      "text/plain": [
       "<Figure size 640x480 with 2 Axes>"
      ]
     },
     "metadata": {},
     "output_type": "display_data"
    }
   ],
   "source": [
    "sns.set(font_scale = 1.2)\n",
    "fig, axes = plt.subplots(2,1, sharey=True)\n",
    "fig.suptitle('Suvi\\'s daily food intake since vet visit')\n",
    "sns.scatterplot(ax = axes[0], data=df_lastn, y=df_lastn[\"Quantity (oz.)\"], x=df_lastn[\"day since vet visit\"], hue = 'rx', s=100)\n",
    "plt.show()"
   ]
  },
  {
   "cell_type": "code",
   "execution_count": null,
   "id": "023993dd-99d3-46fc-88d8-50f123638ffd",
   "metadata": {},
   "outputs": [],
   "source": []
  }
 ],
 "metadata": {
  "kernelspec": {
   "display_name": "analytics",
   "language": "python",
   "name": "analytics"
  },
  "language_info": {
   "codemirror_mode": {
    "name": "ipython",
    "version": 3
   },
   "file_extension": ".py",
   "mimetype": "text/x-python",
   "name": "python",
   "nbconvert_exporter": "python",
   "pygments_lexer": "ipython3",
   "version": "3.9.5"
  }
 },
 "nbformat": 4,
 "nbformat_minor": 5
}
